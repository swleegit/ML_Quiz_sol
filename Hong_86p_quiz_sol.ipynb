{
  "nbformat": 4,
  "nbformat_minor": 0,
  "metadata": {
    "colab": {
      "provenance": [],
      "collapsed_sections": [],
      "authorship_tag": "ABX9TyN/dq9UOwj3nmEF7zr4R3qO",
      "include_colab_link": true
    },
    "kernelspec": {
      "name": "python3",
      "display_name": "Python 3"
    },
    "language_info": {
      "name": "python"
    }
  },
  "cells": [
    {
      "cell_type": "markdown",
      "metadata": {
        "id": "view-in-github",
        "colab_type": "text"
      },
      "source": [
        "<a href=\"https://colab.research.google.com/github/swleegit/ML_Quiz_sol/blob/main/Hong_86p_quiz_sol.ipynb\" target=\"_parent\"><img src=\"https://colab.research.google.com/assets/colab-badge.svg\" alt=\"Open In Colab\"/></a>"
      ]
    },
    {
      "cell_type": "markdown",
      "source": [
        "# 1. \n",
        "- [[target_1, length_1, weight_1], [target_2, length_2, weight_2], ...] 꼴로 만들어 보세요.(힌트: for , append 사용)\n"
      ],
      "metadata": {
        "id": "MT1WjXNhTMjc"
      }
    },
    {
      "cell_type": "code",
      "source": [
        "bream_length = [25.4, 26.3, 26.5, 29.0, 29.0, 29.7, 29.7, 30.0, 30.0, 30.7, 31.0, 31.0, \n",
        "                31.5, 32.0, 32.0, 32.0, 33.0, 33.0, 33.5, 33.5, 34.0, 34.0, 34.5, 35.0, \n",
        "                35.0, 35.0, 35.0, 36.0, 36.0, 37.0, 38.5, 38.5, 39.5, 41.0, 41.0]\n",
        "bream_weight = [242.0, 290.0, 340.0, 363.0, 430.0, 450.0, 500.0, 390.0, 450.0, 500.0, 475.0, 500.0, \n",
        "                500.0, 340.0, 600.0, 600.0, 700.0, 700.0, 610.0, 650.0, 575.0, 685.0, 620.0, 680.0, \n",
        "                700.0, 725.0, 720.0, 714.0, 850.0, 1000.0, 920.0, 955.0, 925.0, 975.0, 950.0]\n",
        "smelt_length = [9.8, 10.5, 10.6, 11.0, 11.2, 11.3, 11.8, 11.8, 12.0, 12.2, 12.4, 13.0, 14.3, 15.0]\n",
        "smelt_weight = [6.7, 7.5, 7.0, 9.7, 9.8, 8.7, 10.0, 9.9, 9.8, 12.2, 13.4, 12.2, 19.7, 19.9]\n",
        "\n",
        "fish_target = [1] * 35 + [0] * 14\n"
      ],
      "metadata": {
        "id": "dUzc-JwNMVzn"
      },
      "execution_count": null,
      "outputs": []
    },
    {
      "cell_type": "code",
      "source": [
        "length = bream_length + smelt_length\n",
        "weight = bream_weight + smelt_weight\n",
        "\n",
        "total = []\n",
        "for i in range(0,49):\n",
        "  total.append([fish_target[i] , length[i] , weight[i]])\n",
        "\n",
        "print(total)"
      ],
      "metadata": {
        "colab": {
          "base_uri": "https://localhost:8080/"
        },
        "id": "K54JrMjMTte-",
        "outputId": "3eb9c7f4-17b4-4417-9e9c-feb59ddb2351"
      },
      "execution_count": null,
      "outputs": [
        {
          "output_type": "stream",
          "name": "stdout",
          "text": [
            "[[1, 25.4, 242.0], [1, 26.3, 290.0], [1, 26.5, 340.0], [1, 29.0, 363.0], [1, 29.0, 430.0], [1, 29.7, 450.0], [1, 29.7, 500.0], [1, 30.0, 390.0], [1, 30.0, 450.0], [1, 30.7, 500.0], [1, 31.0, 475.0], [1, 31.0, 500.0], [1, 31.5, 500.0], [1, 32.0, 340.0], [1, 32.0, 600.0], [1, 32.0, 600.0], [1, 33.0, 700.0], [1, 33.0, 700.0], [1, 33.5, 610.0], [1, 33.5, 650.0], [1, 34.0, 575.0], [1, 34.0, 685.0], [1, 34.5, 620.0], [1, 35.0, 680.0], [1, 35.0, 700.0], [1, 35.0, 725.0], [1, 35.0, 720.0], [1, 36.0, 714.0], [1, 36.0, 850.0], [1, 37.0, 1000.0], [1, 38.5, 920.0], [1, 38.5, 955.0], [1, 39.5, 925.0], [1, 41.0, 975.0], [1, 41.0, 950.0], [0, 9.8, 6.7], [0, 10.5, 7.5], [0, 10.6, 7.0], [0, 11.0, 9.7], [0, 11.2, 9.8], [0, 11.3, 8.7], [0, 11.8, 10.0], [0, 11.8, 9.9], [0, 12.0, 9.8], [0, 12.2, 12.2], [0, 12.4, 13.4], [0, 13.0, 12.2], [0, 14.3, 19.7], [0, 15.0, 19.9]]\n"
          ]
        }
      ]
    },
    {
      "cell_type": "markdown",
      "source": [
        "# 2.\n",
        "- 1.에서 만든 리스트에서 target에 해당하는 값만 모아 하나의 리스트로 만들어 보세요 (힌트 :for, append 사용)"
      ],
      "metadata": {
        "id": "aHNjdNbHT0Fp"
      }
    },
    {
      "cell_type": "code",
      "source": [
        "fish_target = []\n",
        "for i in range(0,39):\n",
        "  element = total[i][0]\n",
        "  fish_target.append(element)\n",
        "\n",
        "print(fish_target)"
      ],
      "metadata": {
        "id": "qk9_di-ST0PW",
        "colab": {
          "base_uri": "https://localhost:8080/"
        },
        "outputId": "7de0cbf8-5ff2-4f96-c712-9e985788497f"
      },
      "execution_count": null,
      "outputs": [
        {
          "output_type": "stream",
          "name": "stdout",
          "text": [
            "[1, 1, 1, 1, 1, 1, 1, 1, 1, 1, 1, 1, 1, 1, 1, 1, 1, 1, 1, 1, 1, 1, 1, 1, 1, 1, 1, 1, 1, 1, 1, 1, 1, 1, 1, 0, 0, 0, 0]\n"
          ]
        }
      ]
    },
    {
      "cell_type": "markdown",
      "source": [
        "# 3.\n",
        "- [[target_1, length_1, weight_1], [target_2, length_2, weight_2], ...]에서 타깃값과 데이터 값을 따로 분리해보세요.(데이터프레임 메소드 사용 권장, 데이터 프레임 모르면 패스하셔도 좋습니다!)"
      ],
      "metadata": {
        "id": "nopg4vk0UJF1"
      }
    },
    {
      "cell_type": "code",
      "source": [
        "import pandas as pd\n",
        "df = pd.DataFrame(total, columns = ['species', 'length', 'weight'])\n",
        "print(df)\n",
        "fish_target = df.species.values\n",
        "print(fish_target)\n",
        "fish_data = df[['length', 'weight']].values\n",
        "print(fish_data)"
      ],
      "metadata": {
        "colab": {
          "base_uri": "https://localhost:8080/"
        },
        "id": "aYweitPEUJiw",
        "outputId": "dff6d4a4-9f2b-4e3d-9e07-017cab084c37"
      },
      "execution_count": null,
      "outputs": [
        {
          "output_type": "stream",
          "name": "stdout",
          "text": [
            "    species  length  weight\n",
            "0         1    25.4   242.0\n",
            "1         1    26.3   290.0\n",
            "2         1    26.5   340.0\n",
            "3         1    29.0   363.0\n",
            "4         1    29.0   430.0\n",
            "5         1    29.7   450.0\n",
            "6         1    29.7   500.0\n",
            "7         1    30.0   390.0\n",
            "8         1    30.0   450.0\n",
            "9         1    30.7   500.0\n",
            "10        1    31.0   475.0\n",
            "11        1    31.0   500.0\n",
            "12        1    31.5   500.0\n",
            "13        1    32.0   340.0\n",
            "14        1    32.0   600.0\n",
            "15        1    32.0   600.0\n",
            "16        1    33.0   700.0\n",
            "17        1    33.0   700.0\n",
            "18        1    33.5   610.0\n",
            "19        1    33.5   650.0\n",
            "20        1    34.0   575.0\n",
            "21        1    34.0   685.0\n",
            "22        1    34.5   620.0\n",
            "23        1    35.0   680.0\n",
            "24        1    35.0   700.0\n",
            "25        1    35.0   725.0\n",
            "26        1    35.0   720.0\n",
            "27        1    36.0   714.0\n",
            "28        1    36.0   850.0\n",
            "29        1    37.0  1000.0\n",
            "30        1    38.5   920.0\n",
            "31        1    38.5   955.0\n",
            "32        1    39.5   925.0\n",
            "33        1    41.0   975.0\n",
            "34        1    41.0   950.0\n",
            "35        0     9.8     6.7\n",
            "36        0    10.5     7.5\n",
            "37        0    10.6     7.0\n",
            "38        0    11.0     9.7\n",
            "39        0    11.2     9.8\n",
            "40        0    11.3     8.7\n",
            "41        0    11.8    10.0\n",
            "42        0    11.8     9.9\n",
            "43        0    12.0     9.8\n",
            "44        0    12.2    12.2\n",
            "45        0    12.4    13.4\n",
            "46        0    13.0    12.2\n",
            "47        0    14.3    19.7\n",
            "48        0    15.0    19.9\n",
            "[1 1 1 1 1 1 1 1 1 1 1 1 1 1 1 1 1 1 1 1 1 1 1 1 1 1 1 1 1 1 1 1 1 1 1 0 0\n",
            " 0 0 0 0 0 0 0 0 0 0 0 0]\n",
            "[[  25.4  242. ]\n",
            " [  26.3  290. ]\n",
            " [  26.5  340. ]\n",
            " [  29.   363. ]\n",
            " [  29.   430. ]\n",
            " [  29.7  450. ]\n",
            " [  29.7  500. ]\n",
            " [  30.   390. ]\n",
            " [  30.   450. ]\n",
            " [  30.7  500. ]\n",
            " [  31.   475. ]\n",
            " [  31.   500. ]\n",
            " [  31.5  500. ]\n",
            " [  32.   340. ]\n",
            " [  32.   600. ]\n",
            " [  32.   600. ]\n",
            " [  33.   700. ]\n",
            " [  33.   700. ]\n",
            " [  33.5  610. ]\n",
            " [  33.5  650. ]\n",
            " [  34.   575. ]\n",
            " [  34.   685. ]\n",
            " [  34.5  620. ]\n",
            " [  35.   680. ]\n",
            " [  35.   700. ]\n",
            " [  35.   725. ]\n",
            " [  35.   720. ]\n",
            " [  36.   714. ]\n",
            " [  36.   850. ]\n",
            " [  37.  1000. ]\n",
            " [  38.5  920. ]\n",
            " [  38.5  955. ]\n",
            " [  39.5  925. ]\n",
            " [  41.   975. ]\n",
            " [  41.   950. ]\n",
            " [   9.8    6.7]\n",
            " [  10.5    7.5]\n",
            " [  10.6    7. ]\n",
            " [  11.     9.7]\n",
            " [  11.2    9.8]\n",
            " [  11.3    8.7]\n",
            " [  11.8   10. ]\n",
            " [  11.8    9.9]\n",
            " [  12.     9.8]\n",
            " [  12.2   12.2]\n",
            " [  12.4   13.4]\n",
            " [  13.    12.2]\n",
            " [  14.3   19.7]\n",
            " [  15.    19.9]]\n"
          ]
        }
      ]
    },
    {
      "cell_type": "markdown",
      "source": [
        "# 4.\n",
        "[생선 데이터 셋(원본 : 캐글)](https://www.kaggle.com/aungpyaeap/fish-market)  \n",
        "\n",
        "해당 링크에서 데이터를 읽어와 bream와smelt를 분류하는 모델과 perch와 roach를 분류하는 모델을 만들고 평가해보세요. 그리고 각 모델의 정확도 차이에 대해 생각해보세요.\n",
        "(특성은 length1과 length2를 선택하세요)\n",
        "\n",
        "[전반적인 과정]\n",
        "\n",
        "- 코랩에서 데이터 읽어오기(csv->dataframe형태 변환)\n",
        "\n",
        "- 원하는 형태로 데이터 프레임 가공하기\n",
        "  - 특정 조건을 만족하는 행 선택\n",
        "  - 특정 열 선택\n",
        "  - dataframe을 ndarray형식으로 변환\n",
        "\n",
        "- fit, score\n",
        "\n",
        "**데이터 프레임 관련 조작은 위의 키워드 중심으로 구글링하면 방법 나옵니다!**\n",
        "\n",
        "**약간 범위가 벗어나기 때문에 모르겠으면 그냥 오셔도 좋습니다**\n",
        "\n",
        "\n"
      ],
      "metadata": {
        "id": "PPjE1WOIUxUk"
      }
    },
    {
      "cell_type": "markdown",
      "source": [
        "[정답](https://colab.research.google.com/drive/1krtBa-ZJhNbKjWnBnylBZlPwbQzpH9Wl?usp=sharing)"
      ],
      "metadata": {
        "id": "D0yuvLwDXlRe"
      }
    }
  ]
}